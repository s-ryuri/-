{
 "cells": [
  {
   "cell_type": "code",
   "execution_count": 8,
   "metadata": {},
   "outputs": [],
   "source": [
    "import torch\n",
    "import torch.nn as nn\n",
    "import torch.nn.functional as F\n",
    "import numpy as np\n",
    "import matplotlib.pyplot as plt\n",
    "import torch.optim as optim\n",
    "from torch.utils.data import TensorDataset\n",
    "from torch.utils.data import DataLoader\n",
    "\n",
    "torch.manual_seed(1)\n",
    "\n",
    "x_data = [[1,2],[2,3],[3,1],[4,3],[5,3],[6,2]]\n",
    "y_data = [[0],[0],[0],[1],[1],[1]]\n",
    "x_train = torch.FloatTensor(x_data)\n",
    "y_train = torch.FloatTensor(y_data)"
   ]
  },
  {
   "cell_type": "code",
   "execution_count": 2,
   "metadata": {},
   "outputs": [],
   "source": [
    "model = nn.Sequential(\n",
    "        nn.Linear(2,1),\n",
    "        nn.Sigmoid()\n",
    ")"
   ]
  },
  {
   "cell_type": "code",
   "execution_count": 3,
   "metadata": {},
   "outputs": [
    {
     "data": {
      "text/plain": [
       "tensor([[0.4020],\n",
       "        [0.4147],\n",
       "        [0.6556],\n",
       "        [0.5948],\n",
       "        [0.6788],\n",
       "        [0.8061]], grad_fn=<SigmoidBackward>)"
      ]
     },
     "execution_count": 3,
     "metadata": {},
     "output_type": "execute_result"
    }
   ],
   "source": [
    "model(x_train)"
   ]
  },
  {
   "cell_type": "code",
   "execution_count": 11,
   "metadata": {},
   "outputs": [
    {
     "name": "stdout",
     "output_type": "stream",
     "text": [
      "Epoch    0 / 10000 Cost : 0.019806 Accuracy 100.00%\n",
      "Epoch 1000 / 10000 Cost : 0.010293 Accuracy 100.00%\n",
      "Epoch 2000 / 10000 Cost : 0.006959 Accuracy 100.00%\n",
      "Epoch 3000 / 10000 Cost : 0.005257 Accuracy 100.00%\n",
      "Epoch 4000 / 10000 Cost : 0.004224 Accuracy 100.00%\n",
      "Epoch 5000 / 10000 Cost : 0.003531 Accuracy 100.00%\n",
      "Epoch 6000 / 10000 Cost : 0.003033 Accuracy 100.00%\n",
      "Epoch 7000 / 10000 Cost : 0.002658 Accuracy 100.00%\n",
      "Epoch 8000 / 10000 Cost : 0.002366 Accuracy 100.00%\n",
      "Epoch 9000 / 10000 Cost : 0.002131 Accuracy 100.00%\n",
      "Epoch 10000 / 10000 Cost : 0.001939 Accuracy 100.00%\n"
     ]
    }
   ],
   "source": [
    "optimizer = optim.SGD(model.parameters(),lr = 1)\n",
    "\n",
    "nb_epochs = 10000\n",
    "\n",
    "for epoch in range(nb_epochs + 1):\n",
    "    hypothesis = model(x_train)\n",
    "    cost = F.binary_cross_entropy(hypothesis,y_train)\n",
    "    \n",
    "    optimizer.zero_grad()\n",
    "    cost.backward()\n",
    "    optimizer.step()\n",
    "    \n",
    "    if epoch % 1000 == 0:\n",
    "        prediction = hypothesis >= torch.FloatTensor([0.5])\n",
    "        correct_prediction = prediction.float() == y_train\n",
    "        accuracy = correct_prediction.sum().item() / len(correct_prediction)\n",
    "        print('Epoch {:4d} / {} Cost : {:.6f} Accuracy {:2.2f}%'.format(epoch,nb_epochs,cost.item(),accuracy * 100))"
   ]
  },
  {
   "cell_type": "code",
   "execution_count": 12,
   "metadata": {},
   "outputs": [
    {
     "data": {
      "text/plain": [
       "tensor([[8.4220e-07],\n",
       "        [3.2344e-03],\n",
       "        [3.7878e-03],\n",
       "        [9.9543e-01],\n",
       "        [9.9998e-01],\n",
       "        [1.0000e+00]], grad_fn=<SigmoidBackward>)"
      ]
     },
     "execution_count": 12,
     "metadata": {},
     "output_type": "execute_result"
    }
   ],
   "source": [
    "model(x_train)"
   ]
  },
  {
   "cell_type": "code",
   "execution_count": 13,
   "metadata": {},
   "outputs": [
    {
     "name": "stdout",
     "output_type": "stream",
     "text": [
      "[Parameter containing:\n",
      "tensor([[5.5572, 2.6994]], requires_grad=True), Parameter containing:\n",
      "tensor([-24.9432], requires_grad=True)]\n"
     ]
    }
   ],
   "source": [
    "print(list(model.parameters()))"
   ]
  },
  {
   "cell_type": "code",
   "execution_count": 15,
   "metadata": {},
   "outputs": [],
   "source": [
    "model =nn.Sequential(\n",
    "        nn.Linear(2,1),\n",
    "        nn.Sigmoid()\n",
    ")"
   ]
  },
  {
   "cell_type": "code",
   "execution_count": 16,
   "metadata": {},
   "outputs": [],
   "source": [
    "class BinaryClassifier(nn.Module):\n",
    "    def __init__(self):\n",
    "        super().__init__()\n",
    "        self.linear = nn.Linear(2,1)\n",
    "        self.sigmoid = nn.Sigmoid()\n",
    "        \n",
    "    def forward(self,x):\n",
    "        return self.sigmoid(self.linear(x))"
   ]
  },
  {
   "cell_type": "code",
   "execution_count": 17,
   "metadata": {},
   "outputs": [
    {
     "name": "stdout",
     "output_type": "stream",
     "text": [
      "Epoch    0 / 1000 Cost : 0.614994 Accuracy 66.67%\n",
      "Epoch   10 / 1000 Cost : 0.747550 Accuracy 83.33%\n",
      "Epoch   20 / 1000 Cost : 0.633216 Accuracy 83.33%\n",
      "Epoch   30 / 1000 Cost : 0.538123 Accuracy 83.33%\n",
      "Epoch   40 / 1000 Cost : 0.450406 Accuracy 83.33%\n",
      "Epoch   50 / 1000 Cost : 0.366382 Accuracy 83.33%\n",
      "Epoch   60 / 1000 Cost : 0.287368 Accuracy 83.33%\n",
      "Epoch   70 / 1000 Cost : 0.219288 Accuracy 83.33%\n",
      "Epoch   80 / 1000 Cost : 0.173225 Accuracy 100.00%\n",
      "Epoch   90 / 1000 Cost : 0.151674 Accuracy 100.00%\n",
      "Epoch  100 / 1000 Cost : 0.140280 Accuracy 100.00%\n",
      "Epoch  110 / 1000 Cost : 0.131002 Accuracy 100.00%\n",
      "Epoch  120 / 1000 Cost : 0.122903 Accuracy 100.00%\n",
      "Epoch  130 / 1000 Cost : 0.115765 Accuracy 100.00%\n",
      "Epoch  140 / 1000 Cost : 0.109426 Accuracy 100.00%\n",
      "Epoch  150 / 1000 Cost : 0.103760 Accuracy 100.00%\n",
      "Epoch  160 / 1000 Cost : 0.098664 Accuracy 100.00%\n",
      "Epoch  170 / 1000 Cost : 0.094056 Accuracy 100.00%\n",
      "Epoch  180 / 1000 Cost : 0.089870 Accuracy 100.00%\n",
      "Epoch  190 / 1000 Cost : 0.086050 Accuracy 100.00%\n",
      "Epoch  200 / 1000 Cost : 0.082549 Accuracy 100.00%\n",
      "Epoch  210 / 1000 Cost : 0.079328 Accuracy 100.00%\n",
      "Epoch  220 / 1000 Cost : 0.076356 Accuracy 100.00%\n",
      "Epoch  230 / 1000 Cost : 0.073604 Accuracy 100.00%\n",
      "Epoch  240 / 1000 Cost : 0.071048 Accuracy 100.00%\n",
      "Epoch  250 / 1000 Cost : 0.068668 Accuracy 100.00%\n",
      "Epoch  260 / 1000 Cost : 0.066446 Accuracy 100.00%\n",
      "Epoch  270 / 1000 Cost : 0.064367 Accuracy 100.00%\n",
      "Epoch  280 / 1000 Cost : 0.062417 Accuracy 100.00%\n",
      "Epoch  290 / 1000 Cost : 0.060584 Accuracy 100.00%\n",
      "Epoch  300 / 1000 Cost : 0.058858 Accuracy 100.00%\n",
      "Epoch  310 / 1000 Cost : 0.057231 Accuracy 100.00%\n",
      "Epoch  320 / 1000 Cost : 0.055692 Accuracy 100.00%\n",
      "Epoch  330 / 1000 Cost : 0.054236 Accuracy 100.00%\n",
      "Epoch  340 / 1000 Cost : 0.052856 Accuracy 100.00%\n",
      "Epoch  350 / 1000 Cost : 0.051546 Accuracy 100.00%\n",
      "Epoch  360 / 1000 Cost : 0.050301 Accuracy 100.00%\n",
      "Epoch  370 / 1000 Cost : 0.049115 Accuracy 100.00%\n",
      "Epoch  380 / 1000 Cost : 0.047986 Accuracy 100.00%\n",
      "Epoch  390 / 1000 Cost : 0.046908 Accuracy 100.00%\n",
      "Epoch  400 / 1000 Cost : 0.045878 Accuracy 100.00%\n",
      "Epoch  410 / 1000 Cost : 0.044893 Accuracy 100.00%\n",
      "Epoch  420 / 1000 Cost : 0.043951 Accuracy 100.00%\n",
      "Epoch  430 / 1000 Cost : 0.043048 Accuracy 100.00%\n",
      "Epoch  440 / 1000 Cost : 0.042182 Accuracy 100.00%\n",
      "Epoch  450 / 1000 Cost : 0.041351 Accuracy 100.00%\n",
      "Epoch  460 / 1000 Cost : 0.040552 Accuracy 100.00%\n",
      "Epoch  470 / 1000 Cost : 0.039784 Accuracy 100.00%\n",
      "Epoch  480 / 1000 Cost : 0.039045 Accuracy 100.00%\n",
      "Epoch  490 / 1000 Cost : 0.038334 Accuracy 100.00%\n",
      "Epoch  500 / 1000 Cost : 0.037649 Accuracy 100.00%\n",
      "Epoch  510 / 1000 Cost : 0.036987 Accuracy 100.00%\n",
      "Epoch  520 / 1000 Cost : 0.036349 Accuracy 100.00%\n",
      "Epoch  530 / 1000 Cost : 0.035734 Accuracy 100.00%\n",
      "Epoch  540 / 1000 Cost : 0.035138 Accuracy 100.00%\n",
      "Epoch  550 / 1000 Cost : 0.034563 Accuracy 100.00%\n",
      "Epoch  560 / 1000 Cost : 0.034006 Accuracy 100.00%\n",
      "Epoch  570 / 1000 Cost : 0.033468 Accuracy 100.00%\n",
      "Epoch  580 / 1000 Cost : 0.032946 Accuracy 100.00%\n",
      "Epoch  590 / 1000 Cost : 0.032441 Accuracy 100.00%\n",
      "Epoch  600 / 1000 Cost : 0.031951 Accuracy 100.00%\n",
      "Epoch  610 / 1000 Cost : 0.031476 Accuracy 100.00%\n",
      "Epoch  620 / 1000 Cost : 0.031014 Accuracy 100.00%\n",
      "Epoch  630 / 1000 Cost : 0.030567 Accuracy 100.00%\n",
      "Epoch  640 / 1000 Cost : 0.030132 Accuracy 100.00%\n",
      "Epoch  650 / 1000 Cost : 0.029710 Accuracy 100.00%\n",
      "Epoch  660 / 1000 Cost : 0.029299 Accuracy 100.00%\n",
      "Epoch  670 / 1000 Cost : 0.028900 Accuracy 100.00%\n",
      "Epoch  680 / 1000 Cost : 0.028512 Accuracy 100.00%\n",
      "Epoch  690 / 1000 Cost : 0.028134 Accuracy 100.00%\n",
      "Epoch  700 / 1000 Cost : 0.027766 Accuracy 100.00%\n",
      "Epoch  710 / 1000 Cost : 0.027407 Accuracy 100.00%\n",
      "Epoch  720 / 1000 Cost : 0.027058 Accuracy 100.00%\n",
      "Epoch  730 / 1000 Cost : 0.026718 Accuracy 100.00%\n",
      "Epoch  740 / 1000 Cost : 0.026386 Accuracy 100.00%\n",
      "Epoch  750 / 1000 Cost : 0.026063 Accuracy 100.00%\n",
      "Epoch  760 / 1000 Cost : 0.025747 Accuracy 100.00%\n",
      "Epoch  770 / 1000 Cost : 0.025439 Accuracy 100.00%\n",
      "Epoch  780 / 1000 Cost : 0.025138 Accuracy 100.00%\n",
      "Epoch  790 / 1000 Cost : 0.024845 Accuracy 100.00%\n",
      "Epoch  800 / 1000 Cost : 0.024558 Accuracy 100.00%\n",
      "Epoch  810 / 1000 Cost : 0.024278 Accuracy 100.00%\n",
      "Epoch  820 / 1000 Cost : 0.024004 Accuracy 100.00%\n",
      "Epoch  830 / 1000 Cost : 0.023737 Accuracy 100.00%\n",
      "Epoch  840 / 1000 Cost : 0.023475 Accuracy 100.00%\n",
      "Epoch  850 / 1000 Cost : 0.023219 Accuracy 100.00%\n",
      "Epoch  860 / 1000 Cost : 0.022969 Accuracy 100.00%\n",
      "Epoch  870 / 1000 Cost : 0.022724 Accuracy 100.00%\n",
      "Epoch  880 / 1000 Cost : 0.022484 Accuracy 100.00%\n",
      "Epoch  890 / 1000 Cost : 0.022250 Accuracy 100.00%\n",
      "Epoch  900 / 1000 Cost : 0.022020 Accuracy 100.00%\n",
      "Epoch  910 / 1000 Cost : 0.021795 Accuracy 100.00%\n",
      "Epoch  920 / 1000 Cost : 0.021574 Accuracy 100.00%\n",
      "Epoch  930 / 1000 Cost : 0.021358 Accuracy 100.00%\n",
      "Epoch  940 / 1000 Cost : 0.021147 Accuracy 100.00%\n",
      "Epoch  950 / 1000 Cost : 0.020939 Accuracy 100.00%\n",
      "Epoch  960 / 1000 Cost : 0.020736 Accuracy 100.00%\n",
      "Epoch  970 / 1000 Cost : 0.020536 Accuracy 100.00%\n",
      "Epoch  980 / 1000 Cost : 0.020340 Accuracy 100.00%\n",
      "Epoch  990 / 1000 Cost : 0.020148 Accuracy 100.00%\n",
      "Epoch 1000 / 1000 Cost : 0.019960 Accuracy 100.00%\n"
     ]
    }
   ],
   "source": [
    "model = BinaryClassifier()\n",
    "\n",
    "optimizer = optim.SGD(model.parameters(),lr = 1)\n",
    "\n",
    "nb_epochs = 1000\n",
    "\n",
    "for epoch in range(nb_epochs + 1):\n",
    "    hypothesis = model(x_train)\n",
    "    cost = F.binary_cross_entropy(hypothesis,y_train)\n",
    "    \n",
    "    optimizer.zero_grad()\n",
    "    cost.backward()\n",
    "    optimizer.step()\n",
    "    \n",
    "    if epoch % 10 == 0:\n",
    "        prediction = hypothesis >= torch.FloatTensor([0.5])\n",
    "        correct_prediction = prediction.float() == y_train\n",
    "        accuracy = correct_prediction.sum().item() / len(correct_prediction)\n",
    "        print('Epoch {:4d} / {} Cost : {:.6f} Accuracy {:2.2f}%'.format(epoch,nb_epochs,cost.item(),accuracy * 100))"
   ]
  },
  {
   "cell_type": "code",
   "execution_count": null,
   "metadata": {},
   "outputs": [],
   "source": []
  }
 ],
 "metadata": {
  "kernelspec": {
   "display_name": "Python 3",
   "language": "python",
   "name": "python3"
  },
  "language_info": {
   "codemirror_mode": {
    "name": "ipython",
    "version": 3
   },
   "file_extension": ".py",
   "mimetype": "text/x-python",
   "name": "python",
   "nbconvert_exporter": "python",
   "pygments_lexer": "ipython3",
   "version": "3.7.6"
  }
 },
 "nbformat": 4,
 "nbformat_minor": 4
}
