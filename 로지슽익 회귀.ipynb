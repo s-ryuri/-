{
 "cells": [
  {
   "cell_type": "code",
   "execution_count": 14,
   "metadata": {},
   "outputs": [],
   "source": [
    "import torch\n",
    "import torch.nn as nn\n",
    "import torch.nn.functional as F\n",
    "import numpy as np\n",
    "import matplotlib.pyplot as plt\n",
    "from torch.utils.data import TensorDataset\n",
    "from torch.utils.data import DataLoader\n",
    "\n",
    "x_train = torch.FloatTensor([[73,80,75],[93,88,93],[89,91,90],[96,98,100],[73,66,70]])\n",
    "y_train = torch.FloatTensor([[152],[185],[180],[196],[142]])"
   ]
  },
  {
   "cell_type": "code",
   "execution_count": 15,
   "metadata": {},
   "outputs": [],
   "source": [
    "dataset = TensorDataset(x_train,y_train)\n",
    "dataloader = DataLoader(dataset,batch_size = 2,shuffle = True)"
   ]
  },
  {
   "cell_type": "code",
   "execution_count": 16,
   "metadata": {},
   "outputs": [],
   "source": [
    "model = nn.Linear(3,1)\n",
    "optimizer = torch.optim.SGD(model.parameters(),lr = 1e-5)"
   ]
  },
  {
   "cell_type": "code",
   "execution_count": 17,
   "metadata": {},
   "outputs": [
    {
     "name": "stdout",
     "output_type": "stream",
     "text": [
      "Epoch    0 / 2000 Batch 1 / 3 Cost : 46074.484375\n",
      "Epoch    0 / 2000 Batch 2 / 3 Cost : 23601.056641\n",
      "Epoch    0 / 2000 Batch 3 / 3 Cost : 3418.139648\n",
      "Epoch  100 / 2000 Batch 1 / 3 Cost : 1.325953\n",
      "Epoch  100 / 2000 Batch 2 / 3 Cost : 0.575670\n",
      "Epoch  100 / 2000 Batch 3 / 3 Cost : 1.106612\n",
      "Epoch  200 / 2000 Batch 1 / 3 Cost : 0.273624\n",
      "Epoch  200 / 2000 Batch 2 / 3 Cost : 0.499249\n",
      "Epoch  200 / 2000 Batch 3 / 3 Cost : 2.396222\n",
      "Epoch  300 / 2000 Batch 1 / 3 Cost : 0.300151\n",
      "Epoch  300 / 2000 Batch 2 / 3 Cost : 1.150077\n",
      "Epoch  300 / 2000 Batch 3 / 3 Cost : 1.475178\n",
      "Epoch  400 / 2000 Batch 1 / 3 Cost : 0.266802\n",
      "Epoch  400 / 2000 Batch 2 / 3 Cost : 0.503259\n",
      "Epoch  400 / 2000 Batch 3 / 3 Cost : 2.307399\n",
      "Epoch  500 / 2000 Batch 1 / 3 Cost : 1.389635\n",
      "Epoch  500 / 2000 Batch 2 / 3 Cost : 0.849732\n",
      "Epoch  500 / 2000 Batch 3 / 3 Cost : 0.451355\n",
      "Epoch  600 / 2000 Batch 1 / 3 Cost : 0.035345\n",
      "Epoch  600 / 2000 Batch 2 / 3 Cost : 0.953261\n",
      "Epoch  600 / 2000 Batch 3 / 3 Cost : 2.361814\n",
      "Epoch  700 / 2000 Batch 1 / 3 Cost : 0.957510\n",
      "Epoch  700 / 2000 Batch 2 / 3 Cost : 1.369368\n",
      "Epoch  700 / 2000 Batch 3 / 3 Cost : 0.000630\n",
      "Epoch  800 / 2000 Batch 1 / 3 Cost : 0.875398\n",
      "Epoch  800 / 2000 Batch 2 / 3 Cost : 0.516450\n",
      "Epoch  800 / 2000 Batch 3 / 3 Cost : 2.061540\n",
      "Epoch  900 / 2000 Batch 1 / 3 Cost : 0.893053\n",
      "Epoch  900 / 2000 Batch 2 / 3 Cost : 0.756495\n",
      "Epoch  900 / 2000 Batch 3 / 3 Cost : 0.500238\n",
      "Epoch 1000 / 2000 Batch 1 / 3 Cost : 1.037328\n",
      "Epoch 1000 / 2000 Batch 2 / 3 Cost : 0.142182\n",
      "Epoch 1000 / 2000 Batch 3 / 3 Cost : 1.593899\n",
      "Epoch 1100 / 2000 Batch 1 / 3 Cost : 1.179720\n",
      "Epoch 1100 / 2000 Batch 2 / 3 Cost : 0.387449\n",
      "Epoch 1100 / 2000 Batch 3 / 3 Cost : 0.116283\n",
      "Epoch 1200 / 2000 Batch 1 / 3 Cost : 0.294462\n",
      "Epoch 1200 / 2000 Batch 2 / 3 Cost : 0.329421\n",
      "Epoch 1200 / 2000 Batch 3 / 3 Cost : 2.319188\n",
      "Epoch 1300 / 2000 Batch 1 / 3 Cost : 1.103949\n",
      "Epoch 1300 / 2000 Batch 2 / 3 Cost : 0.333468\n",
      "Epoch 1300 / 2000 Batch 3 / 3 Cost : 1.086543\n",
      "Epoch 1400 / 2000 Batch 1 / 3 Cost : 0.343863\n",
      "Epoch 1400 / 2000 Batch 2 / 3 Cost : 0.563122\n",
      "Epoch 1400 / 2000 Batch 3 / 3 Cost : 1.896126\n",
      "Epoch 1500 / 2000 Batch 1 / 3 Cost : 0.084173\n",
      "Epoch 1500 / 2000 Batch 2 / 3 Cost : 0.721231\n",
      "Epoch 1500 / 2000 Batch 3 / 3 Cost : 2.294206\n",
      "Epoch 1600 / 2000 Batch 1 / 3 Cost : 0.108871\n",
      "Epoch 1600 / 2000 Batch 2 / 3 Cost : 0.897666\n",
      "Epoch 1600 / 2000 Batch 3 / 3 Cost : 1.278463\n",
      "Epoch 1700 / 2000 Batch 1 / 3 Cost : 1.101851\n",
      "Epoch 1700 / 2000 Batch 2 / 3 Cost : 0.319325\n",
      "Epoch 1700 / 2000 Batch 3 / 3 Cost : 0.025460\n",
      "Epoch 1800 / 2000 Batch 1 / 3 Cost : 0.406517\n",
      "Epoch 1800 / 2000 Batch 2 / 3 Cost : 0.406541\n",
      "Epoch 1800 / 2000 Batch 3 / 3 Cost : 1.816260\n",
      "Epoch 1900 / 2000 Batch 1 / 3 Cost : 0.847265\n",
      "Epoch 1900 / 2000 Batch 2 / 3 Cost : 0.050758\n",
      "Epoch 1900 / 2000 Batch 3 / 3 Cost : 1.204347\n",
      "Epoch 2000 / 2000 Batch 1 / 3 Cost : 0.106487\n",
      "Epoch 2000 / 2000 Batch 2 / 3 Cost : 0.836635\n",
      "Epoch 2000 / 2000 Batch 3 / 3 Cost : 1.252988\n"
     ]
    }
   ],
   "source": [
    "nb_epochs = 2000\n",
    "\n",
    "for epoch in range(nb_epochs + 1):\n",
    "    for batch_idx,samples in enumerate(dataloader):\n",
    "        \n",
    "        x_train,y_train = samples\n",
    "        prediction = model(x_train)\n",
    "        cost = F.mse_loss(prediction,y_train)\n",
    "        \n",
    "        optimizer.zero_grad()\n",
    "        cost.backward()\n",
    "        optimizer.step()\n",
    "        if epoch % 100 == 0:\n",
    "            print('Epoch {:4d} / {} Batch {} / {} Cost : {:.6f}'.format(epoch,nb_epochs,batch_idx + 1,len(dataloader),cost.item()))"
   ]
  },
  {
   "cell_type": "code",
   "execution_count": 18,
   "metadata": {},
   "outputs": [
    {
     "name": "stdout",
     "output_type": "stream",
     "text": [
      "tensor([[151.2692]], grad_fn=<AddmmBackward>)\n"
     ]
    }
   ],
   "source": [
    "new_var = torch.FloatTensor([[73,80,75]])\n",
    "\n",
    "pred_y = model(new_var)\n",
    "\n",
    "print(pred_y)"
   ]
  },
  {
   "cell_type": "code",
   "execution_count": 19,
   "metadata": {},
   "outputs": [],
   "source": [
    "def sigmoid(x):\n",
    "    return 1 / (1 + np.exp(-x))"
   ]
  },
  {
   "cell_type": "code",
   "execution_count": 22,
   "metadata": {},
   "outputs": [
    {
     "data": {
      "image/png": "[encoded data removed]",
      "text/plain": [
       "<Figure size 432x288 with 1 Axes>"
      ]
     },
     "metadata": {
      "needs_background": "light"
     },
     "output_type": "display_data"
    }
   ],
   "source": [
    "x = np.arange(-5.0,5.0,0.1)\n",
    "y = sigmoid(x)\n",
    "\n",
    "plt.plot(x,y,'g')\n",
    "plt.plot([0,0],[1.0,0.0],':')\n",
    "plt.title('Sigmoid Function')\n",
    "plt.show()"
   ]
  },
  {
   "cell_type": "code",
   "execution_count": 24,
   "metadata": {},
   "outputs": [
    {
     "data": {
      "image/png": "[encoded data removed]",
      "text/plain": [
       "<Figure size 432x288 with 1 Axes>"
      ]
     },
     "metadata": {
      "needs_background": "light"
     },
     "output_type": "display_data"
    }
   ],
   "source": [
    "x = np.arange(-5.0,5.0,0.1)\n",
    "y1 = sigmoid(0.5 * x)\n",
    "y2 = sigmoid(x)\n",
    "y3 = sigmoid(2 * x)\n",
    "\n",
    "plt.plot(x,y1,'r',linestyle = '--')\n",
    "plt.plot(x,y2,'g')\n",
    "plt.plot(x,y3,'b',linestyle = '--')\n",
    "plt.plot([0,0],[1.0,0.0],':')\n",
    "plt.title('Sigmoid Function')\n",
    "plt.show()"
   ]
  },
  {
   "cell_type": "code",
   "execution_count": 26,
   "metadata": {},
   "outputs": [
    {
     "data": {
      "image/png": "[encoded data removed]",
      "text/plain": [
       "<Figure size 432x288 with 1 Axes>"
      ]
     },
     "metadata": {
      "needs_background": "light"
     },
     "output_type": "display_data"
    }
   ],
   "source": [
    "x = np.arange(-5.0,5.0,0.1)\n",
    "y1 = sigmoid(x + 0.5)\n",
    "y2 = sigmoid(x + 1)\n",
    "y3 = sigmoid(x + 1.5)\n",
    "\n",
    "plt.plot(x,y1,'r',linestyle = '--')\n",
    "plt.plot(x,y2,'g')\n",
    "plt.plot(x,y3,'b',linestyle = '--')\n",
    "plt.plot([0,0],[1.0,0.0],':')\n",
    "plt.title('Sigmoid Function')\n",
    "plt.show()"
   ]
  },
  {
   "cell_type": "code",
   "execution_count": 27,
   "metadata": {},
   "outputs": [],
   "source": [
    "x_data = [[1,2],[2,3],[3,1],[4,3],[5,3],[6,2]]\n",
    "y_data = [[0],[0],[0],[1],[1],[1]]\n",
    "x_train = torch.FloatTensor(x_data)\n",
    "y_train = torch.FloatTensor(y_data)"
   ]
  },
  {
   "cell_type": "code",
   "execution_count": 29,
   "metadata": {},
   "outputs": [],
   "source": [
    "w = torch.zeros((2,1), requires_grad = True)\n",
    "b = torch.zeros(1,requires_grad = True)\n",
    "\n",
    "hypothesis = 1 / (1 + torch.exp(-(x_train.matmul(w) + b)))"
   ]
  },
  {
   "cell_type": "code",
   "execution_count": 30,
   "metadata": {},
   "outputs": [
    {
     "name": "stdout",
     "output_type": "stream",
     "text": [
      "tensor([[0.5000],\n",
      "        [0.5000],\n",
      "        [0.5000],\n",
      "        [0.5000],\n",
      "        [0.5000],\n",
      "        [0.5000]], grad_fn=<MulBackward0>)\n"
     ]
    }
   ],
   "source": [
    "print(hypothesis)"
   ]
  },
  {
   "cell_type": "code",
   "execution_count": 31,
   "metadata": {},
   "outputs": [
    {
     "name": "stdout",
     "output_type": "stream",
     "text": [
      "tensor([[0.5000],\n",
      "        [0.5000],\n",
      "        [0.5000],\n",
      "        [0.5000],\n",
      "        [0.5000],\n",
      "        [0.5000]], grad_fn=<SigmoidBackward>)\n"
     ]
    }
   ],
   "source": [
    "hypothesis = torch.sigmoid(x_train.matmul(w) + b)\n",
    "print(hypothesis)"
   ]
  },
  {
   "cell_type": "code",
   "execution_count": 32,
   "metadata": {},
   "outputs": [
    {
     "name": "stdout",
     "output_type": "stream",
     "text": [
      "tensor([[0.6931],\n",
      "        [0.6931],\n",
      "        [0.6931],\n",
      "        [0.6931],\n",
      "        [0.6931],\n",
      "        [0.6931]], grad_fn=<NegBackward>)\n"
     ]
    }
   ],
   "source": [
    "losses = -(y_train * torch.log(hypothesis) + (1-y_train) * torch.log(1 - hypothesis))\n",
    "print(losses)"
   ]
  },
  {
   "cell_type": "code",
   "execution_count": 33,
   "metadata": {},
   "outputs": [
    {
     "name": "stdout",
     "output_type": "stream",
     "text": [
      "tensor(0.6931, grad_fn=<MeanBackward0>)\n"
     ]
    }
   ],
   "source": [
    "cost = losses.mean()\n",
    "print(cost)"
   ]
  },
  {
   "cell_type": "code",
   "execution_count": 34,
   "metadata": {},
   "outputs": [
    {
     "data": {
      "text/plain": [
       "tensor(0.6931, grad_fn=<BinaryCrossEntropyBackward>)"
      ]
     },
     "execution_count": 34,
     "metadata": {},
     "output_type": "execute_result"
    }
   ],
   "source": [
    "F.binary_cross_entropy(hypothesis,y_train)"
   ]
  },
  {
   "cell_type": "code",
   "execution_count": 37,
   "metadata": {},
   "outputs": [
    {
     "name": "stdout",
     "output_type": "stream",
     "text": [
      "Epoch    0 / 1000 Cost : 0.693147\n",
      "Epoch  100 / 1000 Cost : 0.134722\n",
      "Epoch  200 / 1000 Cost : 0.080643\n",
      "Epoch  300 / 1000 Cost : 0.057900\n",
      "Epoch  400 / 1000 Cost : 0.045300\n",
      "Epoch  500 / 1000 Cost : 0.037261\n",
      "Epoch  600 / 1000 Cost : 0.031673\n",
      "Epoch  700 / 1000 Cost : 0.027556\n",
      "Epoch  800 / 1000 Cost : 0.024394\n",
      "Epoch  900 / 1000 Cost : 0.021888\n",
      "Epoch 1000 / 1000 Cost : 0.019852\n"
     ]
    }
   ],
   "source": [
    "x_data = [[1,2],[2,3],[3,1],[4,3],[5,3],[6,2]]\n",
    "y_data = [[0],[0],[0],[1],[1],[1]]\n",
    "x_train = torch.FloatTensor(x_data)\n",
    "y_train = torch.FloatTensor(y_data)\n",
    "\n",
    "w = torch.zeros((2,1), requires_grad = True)\n",
    "b = torch.zeros(1,requires_grad = True)\n",
    "\n",
    "optimizer = torch.optim.SGD([w,b],lr = 1)\n",
    "\n",
    "nb_epochs = 1000\n",
    "\n",
    "for epoch in range(nb_epochs + 1):\n",
    "    hypothesis = torch.sigmoid(x_train.matmul(w) + b)\n",
    "    cost = -(y_train * torch.log(hypothesis) + (1-y_train) * torch.log(1-hypothesis)).mean()\n",
    "\n",
    "    optimizer.zero_grad()\n",
    "    cost.backward()\n",
    "    optimizer.step()\n",
    "\n",
    "    if epoch % 100 == 0:\n",
    "            print('Epoch {:4d} / {} Cost : {:.6f}'.format(epoch,nb_epochs,cost.item()))"
   ]
  },
  {
   "cell_type": "code",
   "execution_count": 38,
   "metadata": {},
   "outputs": [
    {
     "name": "stdout",
     "output_type": "stream",
     "text": [
      "tensor([[2.7648e-04],\n",
      "        [3.1608e-02],\n",
      "        [3.8977e-02],\n",
      "        [9.5622e-01],\n",
      "        [9.9823e-01],\n",
      "        [9.9969e-01]], grad_fn=<SigmoidBackward>)\n"
     ]
    }
   ],
   "source": [
    "hypothesis = torch.sigmoid(x_train.matmul(w) + b)\n",
    "print(hypothesis)"
   ]
  },
  {
   "cell_type": "code",
   "execution_count": 39,
   "metadata": {},
   "outputs": [
    {
     "name": "stdout",
     "output_type": "stream",
     "text": [
      "tensor([[False],\n",
      "        [False],\n",
      "        [False],\n",
      "        [ True],\n",
      "        [ True],\n",
      "        [ True]])\n"
     ]
    }
   ],
   "source": [
    "prediction = hypothesis >= torch.FloatTensor([0.5])\n",
    "print(prediction)"
   ]
  },
  {
   "cell_type": "code",
   "execution_count": 40,
   "metadata": {},
   "outputs": [
    {
     "name": "stdout",
     "output_type": "stream",
     "text": [
      "tensor([[3.2530],\n",
      "        [1.5179]], requires_grad=True)\n",
      "tensor([-14.4819], requires_grad=True)\n"
     ]
    }
   ],
   "source": [
    "print(w)\n",
    "print(b)"
   ]
  },
  {
   "cell_type": "code",
   "execution_count": null,
   "metadata": {},
   "outputs": [],
   "source": []
  }
 ],
 "metadata": {
  "kernelspec": {
   "display_name": "Python 3",
   "language": "python",
   "name": "python3"
  },
  "language_info": {
   "codemirror_mode": {
    "name": "ipython",
    "version": 3
   },
   "file_extension": ".py",
   "mimetype": "text/x-python",
   "name": "python",
   "nbconvert_exporter": "python",
   "pygments_lexer": "ipython3",
   "version": "3.7.6"
  }
 },
 "nbformat": 4,
 "nbformat_minor": 4
}
