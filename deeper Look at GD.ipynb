{
 "cells": [
  {
   "cell_type": "code",
   "execution_count": 3,
   "metadata": {},
   "outputs": [],
   "source": [
    "import torch\n",
    "import torch.nn as nn\n",
    "import torch.nn.functional as F\n",
    "import torch.optim as optim"
   ]
  },
  {
   "cell_type": "code",
   "execution_count": 10,
   "metadata": {},
   "outputs": [
    {
     "name": "stdout",
     "output_type": "stream",
     "text": [
      "Epoch  100/1000 W: 0.873, b: 0.290 Cost: 0.012101\n",
      "Epoch  200/1000 W: 0.900, b: 0.228 Cost: 0.007478\n",
      "Epoch  300/1000 W: 0.921, b: 0.179 Cost: 0.004621\n",
      "Epoch  400/1000 W: 0.938, b: 0.141 Cost: 0.002855\n",
      "Epoch  500/1000 W: 0.951, b: 0.111 Cost: 0.001764\n",
      "Epoch  600/1000 W: 0.962, b: 0.087 Cost: 0.001090\n",
      "Epoch  700/1000 W: 0.970, b: 0.068 Cost: 0.000674\n",
      "Epoch  800/1000 W: 0.976, b: 0.054 Cost: 0.000416\n",
      "Epoch  900/1000 W: 0.981, b: 0.042 Cost: 0.000257\n",
      "Epoch 1000/1000 W: 0.985, b: 0.033 Cost: 0.000159\n"
     ]
    }
   ],
   "source": [
    "torch.manual_seed(1)\n",
    "\n",
    "x_train = torch.FloatTensor([[1],[2],[3]])\n",
    "y_train = torch.FloatTensor([[1],[2],[3]])\n",
    "\n",
    "w = torch.zeros(1,requires_grad = True)\n",
    "b = torch.zeros(1,requires_grad = True)\n",
    "\n",
    "optimizer = optim.SGD([w,b],lr = 0.01)\n",
    "\n",
    "cnt = 1000\n",
    "\n",
    "for epoch in range(1,cnt + 1):\n",
    "    hyp = x_train *w + b\n",
    "    cost = torch.mean((hyp - y_train) ** 2)\n",
    "    \n",
    "    optimizer.zero_grad()\n",
    "    cost.backward()\n",
    "    optimizer.step()\n",
    "    if epoch % 100 == 0:\n",
    "        print('Epoch {:4d}/{} W: {:.3f}, b: {:.3f} Cost: {:.6f}'.format(\n",
    "            epoch, cnt, w.item(), b.item(), cost.item()\n",
    "        ))"
   ]
  },
  {
   "cell_type": "code",
   "execution_count": 7,
   "metadata": {},
   "outputs": [
    {
     "name": "stdout",
     "output_type": "stream",
     "text": [
      "tensor([1.9708], requires_grad=True) tensor([0.0664], requires_grad=True)\n"
     ]
    }
   ],
   "source": [
    "print(w,b)"
   ]
  },
  {
   "cell_type": "code",
   "execution_count": 8,
   "metadata": {},
   "outputs": [
    {
     "name": "stdout",
     "output_type": "stream",
     "text": [
      "tensor([1.9708], requires_grad=True)\n"
     ]
    }
   ],
   "source": [
    "print(w)"
   ]
  },
  {
   "cell_type": "code",
   "execution_count": null,
   "metadata": {},
   "outputs": [],
   "source": []
  }
 ],
 "metadata": {
  "kernelspec": {
   "display_name": "Python 3",
   "language": "python",
   "name": "python3"
  },
  "language_info": {
   "codemirror_mode": {
    "name": "ipython",
    "version": 3
   },
   "file_extension": ".py",
   "mimetype": "text/x-python",
   "name": "python",
   "nbconvert_exporter": "python",
   "pygments_lexer": "ipython3",
   "version": "3.7.6"
  }
 },
 "nbformat": 4,
 "nbformat_minor": 4
}
