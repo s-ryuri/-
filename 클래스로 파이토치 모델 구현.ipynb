{
 "cells": [
  {
   "cell_type": "code",
   "execution_count": 1,
   "metadata": {},
   "outputs": [],
   "source": [
    "import torch"
   ]
  },
  {
   "cell_type": "code",
   "execution_count": 8,
   "metadata": {},
   "outputs": [],
   "source": [
    "w = torch.tensor(2.0,requires_grad = True)"
   ]
  },
  {
   "cell_type": "code",
   "execution_count": 9,
   "metadata": {},
   "outputs": [],
   "source": [
    "y = w ** 2\n",
    "z = 2 * y + 5"
   ]
  },
  {
   "cell_type": "code",
   "execution_count": 10,
   "metadata": {},
   "outputs": [],
   "source": [
    "z.backward()"
   ]
  },
  {
   "cell_type": "code",
   "execution_count": 11,
   "metadata": {},
   "outputs": [
    {
     "name": "stdout",
     "output_type": "stream",
     "text": [
      "tensor(8.)\n"
     ]
    }
   ],
   "source": [
    "print(w.grad)"
   ]
  },
  {
   "cell_type": "code",
   "execution_count": 12,
   "metadata": {},
   "outputs": [
    {
     "data": {
      "text/plain": [
       "<torch._C.Generator at 0x1bdac34f450>"
      ]
     },
     "execution_count": 12,
     "metadata": {},
     "output_type": "execute_result"
    }
   ],
   "source": [
    "import torch.nn as nn\n",
    "import torch.nn.functional as F\n",
    "\n",
    "torch.manual_seed(1)"
   ]
  },
  {
   "cell_type": "code",
   "execution_count": 13,
   "metadata": {},
   "outputs": [],
   "source": [
    "x_train = torch.FloatTensor([[1],[2],[3]])\n",
    "y_train = torch.FloatTensor([[2],[4],[6]])\n",
    "\n",
    "model = nn.Linear(1,1)"
   ]
  },
  {
   "cell_type": "code",
   "execution_count": 14,
   "metadata": {},
   "outputs": [
    {
     "name": "stdout",
     "output_type": "stream",
     "text": [
      "[Parameter containing:\n",
      "tensor([[0.5153]], requires_grad=True), Parameter containing:\n",
      "tensor([-0.4414], requires_grad=True)]\n"
     ]
    }
   ],
   "source": [
    "print(list(model.parameters()))"
   ]
  },
  {
   "cell_type": "code",
   "execution_count": 15,
   "metadata": {},
   "outputs": [
    {
     "name": "stdout",
     "output_type": "stream",
     "text": [
      "[Parameter containing:\n",
      "tensor([[0.5153]], requires_grad=True), Parameter containing:\n",
      "tensor([-0.4414], requires_grad=True)]\n"
     ]
    }
   ],
   "source": [
    "print(list(model.parameters()))"
   ]
  },
  {
   "cell_type": "code",
   "execution_count": 26,
   "metadata": {},
   "outputs": [
    {
     "name": "stdout",
     "output_type": "stream",
     "text": [
      "Epoch    0 / 1000 cost : 0.000000\n",
      "Epoch  100 / 1000 cost : 0.000000\n",
      "Epoch  200 / 1000 cost : 0.000000\n",
      "Epoch  300 / 1000 cost : 0.000000\n",
      "Epoch  400 / 1000 cost : 0.000000\n",
      "Epoch  500 / 1000 cost : 0.000000\n",
      "Epoch  600 / 1000 cost : 0.000000\n",
      "Epoch  700 / 1000 cost : 0.000000\n",
      "Epoch  800 / 1000 cost : 0.000000\n",
      "Epoch  900 / 1000 cost : 0.000000\n",
      "Epoch 1000 / 1000 cost : 0.000000\n"
     ]
    }
   ],
   "source": [
    "optimizer = torch.optim.SGD(model.parameters(),lr = 0.01)\n",
    "\n",
    "nb_epochs = 1000\n",
    "\n",
    "for epoch in range(nb_epochs + 1):\n",
    "    prediction1 = model(x_train)\n",
    "    cost = F.mse_loss(prediction1,y_train)\n",
    "    \n",
    "    optimizer.zero_grad()\n",
    "    cost.backward()\n",
    "    optimizer.step()\n",
    "    \n",
    "    if epoch % 100 == 0:\n",
    "        print('Epoch {:4d} / {} cost : {:.6f}'.format(epoch,nb_epochs,cost.item()))"
   ]
  },
  {
   "cell_type": "code",
   "execution_count": 30,
   "metadata": {},
   "outputs": [
    {
     "name": "stdout",
     "output_type": "stream",
     "text": [
      "훈련 후 입력이 4일 때의 예측 값 tensor([[8.0000]], grad_fn=<AddmmBackward>)\n"
     ]
    }
   ],
   "source": [
    "new_var = torch.FloatTensor([[4.0]])\n",
    "\n",
    "pred_y = model(new_var)\n",
    "\n",
    "print(\"훈련 후 입력이 4일 때의 예측 값\",pred_y)"
   ]
  },
  {
   "cell_type": "code",
   "execution_count": 31,
   "metadata": {},
   "outputs": [
    {
     "name": "stdout",
     "output_type": "stream",
     "text": [
      "[Parameter containing:\n",
      "tensor([[2.0000]], requires_grad=True), Parameter containing:\n",
      "tensor([6.4333e-06], requires_grad=True)]\n"
     ]
    }
   ],
   "source": [
    ",print(list(model.parameters()))"
   ]
  },
  {
   "cell_type": "code",
   "execution_count": 32,
   "metadata": {},
   "outputs": [],
   "source": [
    "x_train = torch.FloatTensor([[73,80,75],[93,88,93],[89,91,90],[96,98,100],[73,66,70]])\n",
    "y_train = torch.FloatTensor([[152],[185],[180],[196],[142]])"
   ]
  },
  {
   "cell_type": "code",
   "execution_count": 33,
   "metadata": {},
   "outputs": [
    {
     "name": "stdout",
     "output_type": "stream",
     "text": [
      "[Parameter containing:\n",
      "tensor([[-0.1119,  0.2710, -0.5435]], requires_grad=True), Parameter containing:\n",
      "tensor([0.3462], requires_grad=True)]\n"
     ]
    }
   ],
   "source": [
    "model = nn.Linear(3,1)\n",
    "\n",
    "print(list(model.parameters()))"
   ]
  },
  {
   "cell_type": "code",
   "execution_count": 41,
   "metadata": {},
   "outputs": [
    {
     "name": "stdout",
     "output_type": "stream",
     "text": [
      "Epoch    0 / 80000 cost : 0.157332\n",
      "Epoch 10000 / 80000 cost : 0.157137\n",
      "Epoch 20000 / 80000 cost : 0.157002\n",
      "Epoch 30000 / 80000 cost : 0.156898\n",
      "Epoch 40000 / 80000 cost : 0.156795\n",
      "Epoch 50000 / 80000 cost : 0.156712\n",
      "Epoch 60000 / 80000 cost : 0.156641\n",
      "Epoch 70000 / 80000 cost : 0.156566\n",
      "Epoch 80000 / 80000 cost : 0.156498\n"
     ]
    }
   ],
   "source": [
    "optimizer = torch.optim.SGD(model.parameters(),lr = 1e-5)\n",
    "\n",
    "nb_epochs = 80000\n",
    "\n",
    "for epoch in range(nb_epochs + 1):\n",
    "    prediction1 = model(x_train)\n",
    "    cost = F.mse_loss(prediction1,y_train)\n",
    "    \n",
    "    optimizer.zero_grad()\n",
    "    cost.backward()\n",
    "    optimizer.step()\n",
    "    \n",
    "    if epoch % 10000 == 0:\n",
    "        print('Epoch {:4d} / {} cost : {:.6f}'.format(epoch,nb_epochs,cost.item()))"
   ]
  },
  {
   "cell_type": "code",
   "execution_count": 42,
   "metadata": {},
   "outputs": [
    {
     "name": "stdout",
     "output_type": "stream",
     "text": [
      "tensor([[151.5511]], grad_fn=<AddmmBackward>)\n"
     ]
    }
   ],
   "source": [
    "new_var = torch.FloatTensor([[73,80,75]])\n",
    "pred_y = model(new_var)\n",
    "print(pred_y)"
   ]
  },
  {
   "cell_type": "code",
   "execution_count": 43,
   "metadata": {},
   "outputs": [
    {
     "name": "stdout",
     "output_type": "stream",
     "text": [
      "[Parameter containing:\n",
      "tensor([[1.0354, 0.5164, 0.4569]], requires_grad=True), Parameter containing:\n",
      "tensor([0.3890], requires_grad=True)]\n"
     ]
    }
   ],
   "source": [
    "print(list(model.parameters()))"
   ]
  },
  {
   "cell_type": "code",
   "execution_count": 45,
   "metadata": {},
   "outputs": [],
   "source": [
    "class LinearRegressionModel(nn.Module):\n",
    "    def __init__(self):\n",
    "        super().__init__()\n",
    "        self.linear = nn.Linear(1,1)\n",
    "        \n",
    "    def forward(self,x):\n",
    "        return self.linear(x)\n",
    "    \n",
    "model = LinearRegressionModel()"
   ]
  },
  {
   "cell_type": "code",
   "execution_count": 46,
   "metadata": {},
   "outputs": [],
   "source": [
    "class MultiLinearRegressionModel(nn.Module):\n",
    "    def __init__(self):\n",
    "        super().__init__()\n",
    "        self.linear = nn.Linear(3,1)\n",
    "        \n",
    "    def forward(self,x):\n",
    "        return self.linear(x)\n",
    "    \n",
    "model = MultiLinearRegressionModel()"
   ]
  },
  {
   "cell_type": "code",
   "execution_count": 49,
   "metadata": {},
   "outputs": [
    {
     "name": "stdout",
     "output_type": "stream",
     "text": [
      "Epoch    0 / 2000 cost : 0.432470\n",
      "Epoch  100 / 2000 cost : 0.428730\n",
      "Epoch  200 / 2000 cost : 0.425144\n",
      "Epoch  300 / 2000 cost : 0.421698\n",
      "Epoch  400 / 2000 cost : 0.418378\n",
      "Epoch  500 / 2000 cost : 0.415173\n",
      "Epoch  600 / 2000 cost : 0.412104\n",
      "Epoch  700 / 2000 cost : 0.409136\n",
      "Epoch  800 / 2000 cost : 0.406283\n",
      "Epoch  900 / 2000 cost : 0.403532\n",
      "Epoch 1000 / 2000 cost : 0.400877\n",
      "Epoch 1100 / 2000 cost : 0.398311\n",
      "Epoch 1200 / 2000 cost : 0.395827\n",
      "Epoch 1300 / 2000 cost : 0.393437\n",
      "Epoch 1400 / 2000 cost : 0.391125\n",
      "Epoch 1500 / 2000 cost : 0.388886\n",
      "Epoch 1600 / 2000 cost : 0.386714\n",
      "Epoch 1700 / 2000 cost : 0.384612\n",
      "Epoch 1800 / 2000 cost : 0.382572\n",
      "Epoch 1900 / 2000 cost : 0.380604\n",
      "Epoch 2000 / 2000 cost : 0.378684\n"
     ]
    }
   ],
   "source": [
    "optimizer = torch.optim.SGD(model.parameters(),lr = 1e-5)\n",
    "\n",
    "nb_epochs = 2000\n",
    "\n",
    "for epoch in range(nb_epochs + 1):\n",
    "    \n",
    "    prediction = model(x_train)\n",
    "    \n",
    "    cost = F.mse_loss(prediction,y_train)\n",
    "    \n",
    "    optimizer.zero_grad()\n",
    "    cost.backward()\n",
    "    optimizer.step()\n",
    "    \n",
    "    if epoch % 100 == 0:\n",
    "        print('Epoch {:4d} / {} cost : {:.6f}'.format(epoch,nb_epochs,cost.item()))"
   ]
  },
  {
   "cell_type": "code",
   "execution_count": null,
   "metadata": {},
   "outputs": [],
   "source": []
  }
 ],
 "metadata": {
  "kernelspec": {
   "display_name": "Python 3",
   "language": "python",
   "name": "python3"
  },
  "language_info": {
   "codemirror_mode": {
    "name": "ipython",
    "version": 3
   },
   "file_extension": ".py",
   "mimetype": "text/x-python",
   "name": "python",
   "nbconvert_exporter": "python",
   "pygments_lexer": "ipython3",
   "version": "3.7.6"
  }
 },
 "nbformat": 4,
 "nbformat_minor": 4
}
